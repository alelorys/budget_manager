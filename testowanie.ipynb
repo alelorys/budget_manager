{
 "cells": [
  {
   "cell_type": "code",
   "execution_count": 2,
   "metadata": {},
   "outputs": [],
   "source": [
    "from datetime import datetime"
   ]
  },
  {
   "cell_type": "code",
   "execution_count": 5,
   "metadata": {},
   "outputs": [
    {
     "name": "stdout",
     "output_type": "stream",
     "text": [
      "znajdzka {\"date\":\"2024-10-02T13:31:04.531Z\",\"msg_id\":\"b2c36e63-8cb5-4d70-83f0-282f4985da5f\",\"msg_type\":\"execute_request\",\"session\":\"565d4661-820f-46f2-ba03-11e49a64db02\",\"username\":\"4d2096c4-b8db-4910-82dc-585b5410420b\",\"version\":\"5.2\"}\n",
      "znajdzka {}\n",
      "znajdzka {}\n",
      "znajdzka {\"silent\":false,\"store_history\":false,\"user_expressions\":{},\"allow_stdin\":false,\"stop_on_error\":false,\"code\":\"def __jupyter_exec_background__():\\n    from IPython.display import display\\n    from threading import Thread\\n    from traceback import format_exc\\n\\n    # First send a dummy response to get the display id.\\n    # Later we'll send the real response with the actual data.\\n    # And that can happen much later even after the execution completes,\\n    # as that response will be sent from a bg thread.\\n    output = display({\\\"application/vnd.vscode.bg.execution.7\\\": \\\"\\\"}, raw=True, display_id=True)\\n\\n    def do_implementation():\\n        return get_ipython().kernel.do_complete(\\\"date = datetime.s('2024-09-02 19:02:36.171481')\\\", 17)\\n\\n    def bg_main():\\n        try:\\n            output.update({\\\"application/vnd.vscode.bg.execution.7.result\\\": do_implementation()}, raw=True)\\n        except Exception as e:\\n            output.update({\\\"application/vnd.vscode.bg.execution.7.error\\\": format_exc()}, raw=True)\\n\\n\\n    Thread(target=bg_main, daemon=True).start()\\n\\n\\n__jupyter_exec_background__()\\ndel __jupyter_exec_background__\"}\n"
     ]
    }
   ],
   "source": [
    "date_str = '2024-09-02 19:02:36.171481'"
   ]
  },
  {
   "cell_type": "code",
   "execution_count": 13,
   "metadata": {},
   "outputs": [
    {
     "name": "stdout",
     "output_type": "stream",
     "text": [
      "znajdzka {\"date\":\"2024-10-02T13:34:24.913Z\",\"msg_id\":\"95f1a318-de20-4e23-8489-fc89bfc707ae\",\"msg_type\":\"execute_request\",\"session\":\"565d4661-820f-46f2-ba03-11e49a64db02\",\"username\":\"4d2096c4-b8db-4910-82dc-585b5410420b\",\"version\":\"5.2\"}\n",
      "znajdzka {}\n",
      "znajdzka {}\n",
      "znajdzka {\"silent\":false,\"store_history\":false,\"user_expressions\":{},\"allow_stdin\":false,\"stop_on_error\":false,\"code\":\"def __jupyter_exec_background__():\\n    from IPython.display import display\\n    from threading import Thread\\n    from traceback import format_exc\\n\\n    # First send a dummy response to get the display id.\\n    # Later we'll send the real response with the actual data.\\n    # And that can happen much later even after the execution completes,\\n    # as that response will be sent from a bg thread.\\n    output = display({\\\"application/vnd.vscode.bg.execution.26\\\": \\\"\\\"}, raw=True, display_id=True)\\n\\n    def do_implementation():\\n        return get_ipython().kernel.do_complete(\\\"da\\\", 2)\\n\\n    def bg_main():\\n        try:\\n            output.update({\\\"application/vnd.vscode.bg.execution.26.result\\\": do_implementation()}, raw=True)\\n        except Exception as e:\\n            output.update({\\\"application/vnd.vscode.bg.execution.26.error\\\": format_exc()}, raw=True)\\n\\n\\n    Thread(target=bg_main, daemon=True).start()\\n\\n\\n__jupyter_exec_background__()\\ndel __jupyter_exec_background__\"}\n"
     ]
    }
   ],
   "source": [
    "date = datetime.strptime(date_str, \"%Y-%m-%d %H:%M:%S.%f\").strftime(\"%B\")"
   ]
  },
  {
   "cell_type": "code",
   "execution_count": 15,
   "metadata": {},
   "outputs": [
    {
     "data": {
      "text/plain": [
       "str"
      ]
     },
     "execution_count": 15,
     "metadata": {},
     "output_type": "execute_result"
    }
   ],
   "source": [
    "type(date)"
   ]
  },
  {
   "cell_type": "code",
   "execution_count": 12,
   "metadata": {},
   "outputs": [
    {
     "name": "stdout",
     "output_type": "stream",
     "text": [
      "znajdzka {\"date\":\"2024-10-02T13:33:58.457Z\",\"msg_id\":\"573e0ffd-076f-4e6f-950e-be27d074bfd5\",\"msg_type\":\"execute_request\",\"session\":\"565d4661-820f-46f2-ba03-11e49a64db02\",\"username\":\"4d2096c4-b8db-4910-82dc-585b5410420b\",\"version\":\"5.2\"}\n",
      "znajdzka {}\n",
      "znajdzka {\"cellId\":\"vscode-notebook-cell:/c%3A/Users/aleks/Desktop/Python/AI/budget_manager/testowanie.ipynb#W2sZmlsZQ%3D%3D\"}\n",
      "znajdzka {\"silent\":false,\"store_history\":true,\"user_expressions\":{},\"allow_stdin\":true,\"stop_on_error\":false,\"code\":\"date.strftime(\\\"%B\\\")\"}\n"
     ]
    },
    {
     "data": {
      "text/plain": [
       "'September'"
      ]
     },
     "execution_count": 12,
     "metadata": {},
     "output_type": "execute_result"
    },
    {
     "name": "stdout",
     "output_type": "stream",
     "text": [
      "znajdzka {\"date\":\"2024-10-02T13:34:13.699Z\",\"msg_id\":\"4fa05f06-b833-4fe3-8875-59fa72ef9b51\",\"msg_type\":\"execute_request\",\"session\":\"565d4661-820f-46f2-ba03-11e49a64db02\",\"username\":\"4d2096c4-b8db-4910-82dc-585b5410420b\",\"version\":\"5.2\"}\n",
      "znajdzka {}\n",
      "znajdzka {}\n",
      "znajdzka {\"silent\":false,\"store_history\":false,\"user_expressions\":{},\"allow_stdin\":false,\"stop_on_error\":false,\"code\":\"def __jupyter_exec_background__():\\n    from IPython.display import display\\n    from threading import Thread\\n    from traceback import format_exc\\n\\n    # First send a dummy response to get the display id.\\n    # Later we'll send the real response with the actual data.\\n    # And that can happen much later even after the execution completes,\\n    # as that response will be sent from a bg thread.\\n    output = display({\\\"application/vnd.vscode.bg.execution.22\\\": \\\"\\\"}, raw=True, display_id=True)\\n\\n    def do_implementation():\\n        return get_ipython().kernel.do_complete(\\\"date = datetime.strptime(date_str, \\\\\\\"%Y-%m-%d %H:%M:%S.%f\\\\\\\").\\\", 59)\\n\\n    def bg_main():\\n        try:\\n            output.update({\\\"application/vnd.vscode.bg.execution.22.result\\\": do_implementation()}, raw=True)\\n        except Exception as e:\\n            output.update({\\\"application/vnd.vscode.bg.execution.22.error\\\": format_exc()}, raw=True)\\n\\n\\n    Thread(target=bg_main, daemon=True).start()\\n\\n\\n__jupyter_exec_background__()\\ndel __jupyter_exec_background__\"}\n"
     ]
    }
   ],
   "source": [
    "date.strftime(\"%B\")"
   ]
  }
 ],
 "metadata": {
  "kernelspec": {
   "display_name": "budget-manager",
   "language": "python",
   "name": "python3"
  },
  "language_info": {
   "codemirror_mode": {
    "name": "ipython",
    "version": 3
   },
   "file_extension": ".py",
   "mimetype": "text/x-python",
   "name": "python",
   "nbconvert_exporter": "python",
   "pygments_lexer": "ipython3",
   "version": "3.11.8"
  }
 },
 "nbformat": 4,
 "nbformat_minor": 2
}
